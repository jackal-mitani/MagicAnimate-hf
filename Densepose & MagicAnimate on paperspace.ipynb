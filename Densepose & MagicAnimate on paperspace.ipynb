{
 "cells": [
  {
   "cell_type": "code",
   "execution_count": null,
   "id": "7306b778-c7a7-4cd0-8722-d6a5cba401d9",
   "metadata": {},
   "outputs": [],
   "source": [
    "#Magic animate起動\n",
    "\n",
    "%cd /notebooks\n",
    "!git clone https://github.com/jackal-mitani/MagicAnimate-hf.git\n",
    "%cd /notebooks/MagicAnimate-hf\n",
    "\n",
    "!sudo apt-get update -y\n",
    "!sudo apt-get install python3.10 python3.10-venv python3.10-dev -y\n",
    "\n",
    "!curl -sS https://bootstrap.pypa.io/get-pip.py | python3.10\n",
    "\n",
    "!python3.10 -m pip install -q -r /notebooks/MagicAnimate-hf/requirements.txt\n",
    "!python3.10 -m pip install -q matplotlib-inline Ipython\n",
    "!python3.10 -m pip install --upgrade imageio imageio-ffmpeg gradio\n",
    "\n",
    "!sudo apt-get install aria2 -y\n",
    "BaseModelUrl = \"https://huggingface.co/runwayml/stable-diffusion-v1-5\"\n",
    "BaseModelDir = \"/notebooks/MagicAnimate-hf/stable-diffusion-v1-5\"\n",
    "!aria2c --console-log-level=error -c -x 16 -s 16 -k 1M {BaseModelUrl}/raw/main/model_index.json -d {BaseModelDir} -o model_index.json\n",
    "!aria2c --console-log-level=error -c -x 16 -s 16 -k 1M {BaseModelUrl}/resolve/main/vae/diffusion_pytorch_model.bin -d {BaseModelDir}/vae -o diffusion_pytorch_model.bin\n",
    "!aria2c --console-log-level=error -c -x 16 -s 16 -k 1M {BaseModelUrl}/raw/main/vae/config.json -d {BaseModelDir}/vae -o config.json\n",
    "!aria2c --console-log-level=error -c -x 16 -s 16 -k 1M {BaseModelUrl}/resolve/main/unet/diffusion_pytorch_model.bin -d {BaseModelDir}/unet -o diffusion_pytorch_model.bin\n",
    "!aria2c --console-log-level=error -c -x 16 -s 16 -k 1M {BaseModelUrl}/raw/main/unet/config.json -d {BaseModelDir}/unet -o config.json\n",
    "!aria2c --console-log-level=error -c -x 16 -s 16 -k 1M {BaseModelUrl}/raw/main/tokenizer/vocab.json -d {BaseModelDir}/tokenizer -o vocab.json\n",
    "!aria2c --console-log-level=error -c -x 16 -s 16 -k 1M {BaseModelUrl}/raw/main/tokenizer/tokenizer_config.json -d {BaseModelDir}/tokenizer -o tokenizer_config.json\n",
    "!aria2c --console-log-level=error -c -x 16 -s 16 -k 1M {BaseModelUrl}/raw/main/tokenizer/special_tokens_map.json -d {BaseModelDir}/tokenizer -o special_tokens_map.json\n",
    "!aria2c --console-log-level=error -c -x 16 -s 16 -k 1M {BaseModelUrl}/raw/main/tokenizer/merges.txt -d {BaseModelDir}/tokenizer -o merges.txt\n",
    "!aria2c --console-log-level=error -c -x 16 -s 16 -k 1M {BaseModelUrl}/resolve/main/text_encoder/pytorch_model.bin -d {BaseModelDir}/text_encoder -o pytorch_model.bin\n",
    "!aria2c --console-log-level=error -c -x 16 -s 16 -k 1M {BaseModelUrl}/raw/main/text_encoder/config.json -d {BaseModelDir}/text_encoder -o config.json\n",
    "!aria2c --console-log-level=error -c -x 16 -s 16 -k 1M {BaseModelUrl}/raw/main/scheduler/scheduler_config.json -d {BaseModelDir}/scheduler -o scheduler_config.json\n",
    "!aria2c --console-log-level=error -c -x 16 -s 16 -k 1M {BaseModelUrl}/resolve/main/safety_checker/pytorch_model.bin -d {BaseModelDir}/safety_checker -o pytorch_model.bin\n",
    "!aria2c --console-log-level=error -c -x 16 -s 16 -k 1M {BaseModelUrl}/raw/main/safety_checker/config.json -d {BaseModelDir}/safety_checker -o config.json\n",
    "!aria2c --console-log-level=error -c -x 16 -s 16 -k 1M {BaseModelUrl}/raw/main/feature_extractor/preprocessor_config.json -d {BaseModelDir}/feature_extractor -o preprocessor_config.json\n",
    "\n",
    "%cd /notebooks/MagicAnimate-hf\n",
    "!python3.10 app.py"
   ]
  },
  {
   "cell_type": "code",
   "execution_count": null,
   "id": "fe88e0d3-659b-4600-8ab6-6f25f97fd74c",
   "metadata": {},
   "outputs": [],
   "source": [
    "#Vid2densepose起動\n",
    "\n",
    "!nvidia-smi\n",
    "\n",
    "%cd /notebooks\n",
    "!git clone -b magic-animate-craft-with-colab https://github.com/shinshin86/vid2densepose.git\n",
    "%cd /notebooks/vid2densepose\n",
    "\n",
    "!pip install -q -r /notebooks/vid2densepose/requirements.txt\n",
    "\n",
    "%cd /notebooks\n",
    "!git clone https://github.com/facebookresearch/detectron2.git\n",
    "%cd /notebooks/detectron2\n",
    "\n",
    "!python /notebooks/vid2densepose/app.py  --share"
   ]
  }
 ],
 "metadata": {
  "kernelspec": {
   "display_name": "Python 3 (ipykernel)",
   "language": "python",
   "name": "python3"
  },
  "language_info": {
   "codemirror_mode": {
    "name": "ipython",
    "version": 3
   },
   "file_extension": ".py",
   "mimetype": "text/x-python",
   "name": "python",
   "nbconvert_exporter": "python",
   "pygments_lexer": "ipython3",
   "version": "3.9.16"
  }
 },
 "nbformat": 4,
 "nbformat_minor": 5
}
